{
  "nbformat": 4,
  "nbformat_minor": 0,
  "metadata": {
    "colab": {
      "provenance": [],
      "gpuType": "T4",
      "toc_visible": true
    },
    "kernelspec": {
      "name": "python3",
      "display_name": "Python 3"
    },
    "language_info": {
      "name": "python"
    },
    "accelerator": "GPU",
    "widgets": {
      "application/vnd.jupyter.widget-state+json": {
        "739f6d932656467bb997994eb2f30e73": {
          "model_module": "@jupyter-widgets/controls",
          "model_name": "VBoxModel",
          "model_module_version": "1.5.0",
          "state": {
            "_dom_classes": [],
            "_model_module": "@jupyter-widgets/controls",
            "_model_module_version": "1.5.0",
            "_model_name": "VBoxModel",
            "_view_count": null,
            "_view_module": "@jupyter-widgets/controls",
            "_view_module_version": "1.5.0",
            "_view_name": "VBoxView",
            "box_style": "",
            "children": [],
            "layout": "IPY_MODEL_ffe9599628c24583843eabf3992a45c7"
          }
        },
        "dc4c01f922e14da99f1a4da41e7dd053": {
          "model_module": "@jupyter-widgets/controls",
          "model_name": "HTMLModel",
          "model_module_version": "1.5.0",
          "state": {
            "_dom_classes": [],
            "_model_module": "@jupyter-widgets/controls",
            "_model_module_version": "1.5.0",
            "_model_name": "HTMLModel",
            "_view_count": null,
            "_view_module": "@jupyter-widgets/controls",
            "_view_module_version": "1.5.0",
            "_view_name": "HTMLView",
            "description": "",
            "description_tooltip": null,
            "layout": "IPY_MODEL_7ceb2f3362014d22ae8c220d927e79cf",
            "placeholder": "​",
            "style": "IPY_MODEL_5fd616e727d84edc9dff809da50163cb",
            "value": "<center> <img\nsrc=https://huggingface.co/front/assets/huggingface_logo-noborder.svg\nalt='Hugging Face'> <br> Copy a token from <a\nhref=\"https://huggingface.co/settings/tokens\" target=\"_blank\">your Hugging Face\ntokens page</a> and paste it below. <br> Immediately click login after copying\nyour token or it might be stored in plain text in this notebook file. </center>"
          }
        },
        "20049b43a350467d908a95b979971d98": {
          "model_module": "@jupyter-widgets/controls",
          "model_name": "PasswordModel",
          "model_module_version": "1.5.0",
          "state": {
            "_dom_classes": [],
            "_model_module": "@jupyter-widgets/controls",
            "_model_module_version": "1.5.0",
            "_model_name": "PasswordModel",
            "_view_count": null,
            "_view_module": "@jupyter-widgets/controls",
            "_view_module_version": "1.5.0",
            "_view_name": "PasswordView",
            "continuous_update": true,
            "description": "Token:",
            "description_tooltip": null,
            "disabled": false,
            "layout": "IPY_MODEL_d5f6475bb4b248feb3d76220d6006f80",
            "placeholder": "​",
            "style": "IPY_MODEL_dd87f3f357d44068bbd249fa8be22f3b",
            "value": ""
          }
        },
        "ac49926dfc114dccb89bc34c999ce68e": {
          "model_module": "@jupyter-widgets/controls",
          "model_name": "CheckboxModel",
          "model_module_version": "1.5.0",
          "state": {
            "_dom_classes": [],
            "_model_module": "@jupyter-widgets/controls",
            "_model_module_version": "1.5.0",
            "_model_name": "CheckboxModel",
            "_view_count": null,
            "_view_module": "@jupyter-widgets/controls",
            "_view_module_version": "1.5.0",
            "_view_name": "CheckboxView",
            "description": "Add token as git credential?",
            "description_tooltip": null,
            "disabled": false,
            "indent": true,
            "layout": "IPY_MODEL_2911c6fd331f4a9e9a81d3c1eef6d1a9",
            "style": "IPY_MODEL_1b74e5cd218c4d5f80ea0afe6078a45f",
            "value": true
          }
        },
        "0973299c5da142e7805ad1e876f98ecd": {
          "model_module": "@jupyter-widgets/controls",
          "model_name": "ButtonModel",
          "model_module_version": "1.5.0",
          "state": {
            "_dom_classes": [],
            "_model_module": "@jupyter-widgets/controls",
            "_model_module_version": "1.5.0",
            "_model_name": "ButtonModel",
            "_view_count": null,
            "_view_module": "@jupyter-widgets/controls",
            "_view_module_version": "1.5.0",
            "_view_name": "ButtonView",
            "button_style": "",
            "description": "Login",
            "disabled": false,
            "icon": "",
            "layout": "IPY_MODEL_187af44c8619436cbd38c2fdf14775ba",
            "style": "IPY_MODEL_36d5f60d91e0415c83c71f2e069defdd",
            "tooltip": ""
          }
        },
        "267c36e62ab144dfa1b364fcb7011305": {
          "model_module": "@jupyter-widgets/controls",
          "model_name": "HTMLModel",
          "model_module_version": "1.5.0",
          "state": {
            "_dom_classes": [],
            "_model_module": "@jupyter-widgets/controls",
            "_model_module_version": "1.5.0",
            "_model_name": "HTMLModel",
            "_view_count": null,
            "_view_module": "@jupyter-widgets/controls",
            "_view_module_version": "1.5.0",
            "_view_name": "HTMLView",
            "description": "",
            "description_tooltip": null,
            "layout": "IPY_MODEL_cd0b366da79744688115b87fd98c19ce",
            "placeholder": "​",
            "style": "IPY_MODEL_317b5ecd7e8f4931938ec84bfe1cf535",
            "value": "\n<b>Pro Tip:</b> If you don't already have one, you can create a dedicated\n'notebooks' token with 'write' access, that you can then easily reuse for all\nnotebooks. </center>"
          }
        },
        "ffe9599628c24583843eabf3992a45c7": {
          "model_module": "@jupyter-widgets/base",
          "model_name": "LayoutModel",
          "model_module_version": "1.2.0",
          "state": {
            "_model_module": "@jupyter-widgets/base",
            "_model_module_version": "1.2.0",
            "_model_name": "LayoutModel",
            "_view_count": null,
            "_view_module": "@jupyter-widgets/base",
            "_view_module_version": "1.2.0",
            "_view_name": "LayoutView",
            "align_content": null,
            "align_items": "center",
            "align_self": null,
            "border": null,
            "bottom": null,
            "display": "flex",
            "flex": null,
            "flex_flow": "column",
            "grid_area": null,
            "grid_auto_columns": null,
            "grid_auto_flow": null,
            "grid_auto_rows": null,
            "grid_column": null,
            "grid_gap": null,
            "grid_row": null,
            "grid_template_areas": null,
            "grid_template_columns": null,
            "grid_template_rows": null,
            "height": null,
            "justify_content": null,
            "justify_items": null,
            "left": null,
            "margin": null,
            "max_height": null,
            "max_width": null,
            "min_height": null,
            "min_width": null,
            "object_fit": null,
            "object_position": null,
            "order": null,
            "overflow": null,
            "overflow_x": null,
            "overflow_y": null,
            "padding": null,
            "right": null,
            "top": null,
            "visibility": null,
            "width": "50%"
          }
        },
        "7ceb2f3362014d22ae8c220d927e79cf": {
          "model_module": "@jupyter-widgets/base",
          "model_name": "LayoutModel",
          "model_module_version": "1.2.0",
          "state": {
            "_model_module": "@jupyter-widgets/base",
            "_model_module_version": "1.2.0",
            "_model_name": "LayoutModel",
            "_view_count": null,
            "_view_module": "@jupyter-widgets/base",
            "_view_module_version": "1.2.0",
            "_view_name": "LayoutView",
            "align_content": null,
            "align_items": null,
            "align_self": null,
            "border": null,
            "bottom": null,
            "display": null,
            "flex": null,
            "flex_flow": null,
            "grid_area": null,
            "grid_auto_columns": null,
            "grid_auto_flow": null,
            "grid_auto_rows": null,
            "grid_column": null,
            "grid_gap": null,
            "grid_row": null,
            "grid_template_areas": null,
            "grid_template_columns": null,
            "grid_template_rows": null,
            "height": null,
            "justify_content": null,
            "justify_items": null,
            "left": null,
            "margin": null,
            "max_height": null,
            "max_width": null,
            "min_height": null,
            "min_width": null,
            "object_fit": null,
            "object_position": null,
            "order": null,
            "overflow": null,
            "overflow_x": null,
            "overflow_y": null,
            "padding": null,
            "right": null,
            "top": null,
            "visibility": null,
            "width": null
          }
        },
        "5fd616e727d84edc9dff809da50163cb": {
          "model_module": "@jupyter-widgets/controls",
          "model_name": "DescriptionStyleModel",
          "model_module_version": "1.5.0",
          "state": {
            "_model_module": "@jupyter-widgets/controls",
            "_model_module_version": "1.5.0",
            "_model_name": "DescriptionStyleModel",
            "_view_count": null,
            "_view_module": "@jupyter-widgets/base",
            "_view_module_version": "1.2.0",
            "_view_name": "StyleView",
            "description_width": ""
          }
        },
        "d5f6475bb4b248feb3d76220d6006f80": {
          "model_module": "@jupyter-widgets/base",
          "model_name": "LayoutModel",
          "model_module_version": "1.2.0",
          "state": {
            "_model_module": "@jupyter-widgets/base",
            "_model_module_version": "1.2.0",
            "_model_name": "LayoutModel",
            "_view_count": null,
            "_view_module": "@jupyter-widgets/base",
            "_view_module_version": "1.2.0",
            "_view_name": "LayoutView",
            "align_content": null,
            "align_items": null,
            "align_self": null,
            "border": null,
            "bottom": null,
            "display": null,
            "flex": null,
            "flex_flow": null,
            "grid_area": null,
            "grid_auto_columns": null,
            "grid_auto_flow": null,
            "grid_auto_rows": null,
            "grid_column": null,
            "grid_gap": null,
            "grid_row": null,
            "grid_template_areas": null,
            "grid_template_columns": null,
            "grid_template_rows": null,
            "height": null,
            "justify_content": null,
            "justify_items": null,
            "left": null,
            "margin": null,
            "max_height": null,
            "max_width": null,
            "min_height": null,
            "min_width": null,
            "object_fit": null,
            "object_position": null,
            "order": null,
            "overflow": null,
            "overflow_x": null,
            "overflow_y": null,
            "padding": null,
            "right": null,
            "top": null,
            "visibility": null,
            "width": null
          }
        },
        "dd87f3f357d44068bbd249fa8be22f3b": {
          "model_module": "@jupyter-widgets/controls",
          "model_name": "DescriptionStyleModel",
          "model_module_version": "1.5.0",
          "state": {
            "_model_module": "@jupyter-widgets/controls",
            "_model_module_version": "1.5.0",
            "_model_name": "DescriptionStyleModel",
            "_view_count": null,
            "_view_module": "@jupyter-widgets/base",
            "_view_module_version": "1.2.0",
            "_view_name": "StyleView",
            "description_width": ""
          }
        },
        "2911c6fd331f4a9e9a81d3c1eef6d1a9": {
          "model_module": "@jupyter-widgets/base",
          "model_name": "LayoutModel",
          "model_module_version": "1.2.0",
          "state": {
            "_model_module": "@jupyter-widgets/base",
            "_model_module_version": "1.2.0",
            "_model_name": "LayoutModel",
            "_view_count": null,
            "_view_module": "@jupyter-widgets/base",
            "_view_module_version": "1.2.0",
            "_view_name": "LayoutView",
            "align_content": null,
            "align_items": null,
            "align_self": null,
            "border": null,
            "bottom": null,
            "display": null,
            "flex": null,
            "flex_flow": null,
            "grid_area": null,
            "grid_auto_columns": null,
            "grid_auto_flow": null,
            "grid_auto_rows": null,
            "grid_column": null,
            "grid_gap": null,
            "grid_row": null,
            "grid_template_areas": null,
            "grid_template_columns": null,
            "grid_template_rows": null,
            "height": null,
            "justify_content": null,
            "justify_items": null,
            "left": null,
            "margin": null,
            "max_height": null,
            "max_width": null,
            "min_height": null,
            "min_width": null,
            "object_fit": null,
            "object_position": null,
            "order": null,
            "overflow": null,
            "overflow_x": null,
            "overflow_y": null,
            "padding": null,
            "right": null,
            "top": null,
            "visibility": null,
            "width": null
          }
        },
        "1b74e5cd218c4d5f80ea0afe6078a45f": {
          "model_module": "@jupyter-widgets/controls",
          "model_name": "DescriptionStyleModel",
          "model_module_version": "1.5.0",
          "state": {
            "_model_module": "@jupyter-widgets/controls",
            "_model_module_version": "1.5.0",
            "_model_name": "DescriptionStyleModel",
            "_view_count": null,
            "_view_module": "@jupyter-widgets/base",
            "_view_module_version": "1.2.0",
            "_view_name": "StyleView",
            "description_width": ""
          }
        },
        "187af44c8619436cbd38c2fdf14775ba": {
          "model_module": "@jupyter-widgets/base",
          "model_name": "LayoutModel",
          "model_module_version": "1.2.0",
          "state": {
            "_model_module": "@jupyter-widgets/base",
            "_model_module_version": "1.2.0",
            "_model_name": "LayoutModel",
            "_view_count": null,
            "_view_module": "@jupyter-widgets/base",
            "_view_module_version": "1.2.0",
            "_view_name": "LayoutView",
            "align_content": null,
            "align_items": null,
            "align_self": null,
            "border": null,
            "bottom": null,
            "display": null,
            "flex": null,
            "flex_flow": null,
            "grid_area": null,
            "grid_auto_columns": null,
            "grid_auto_flow": null,
            "grid_auto_rows": null,
            "grid_column": null,
            "grid_gap": null,
            "grid_row": null,
            "grid_template_areas": null,
            "grid_template_columns": null,
            "grid_template_rows": null,
            "height": null,
            "justify_content": null,
            "justify_items": null,
            "left": null,
            "margin": null,
            "max_height": null,
            "max_width": null,
            "min_height": null,
            "min_width": null,
            "object_fit": null,
            "object_position": null,
            "order": null,
            "overflow": null,
            "overflow_x": null,
            "overflow_y": null,
            "padding": null,
            "right": null,
            "top": null,
            "visibility": null,
            "width": null
          }
        },
        "36d5f60d91e0415c83c71f2e069defdd": {
          "model_module": "@jupyter-widgets/controls",
          "model_name": "ButtonStyleModel",
          "model_module_version": "1.5.0",
          "state": {
            "_model_module": "@jupyter-widgets/controls",
            "_model_module_version": "1.5.0",
            "_model_name": "ButtonStyleModel",
            "_view_count": null,
            "_view_module": "@jupyter-widgets/base",
            "_view_module_version": "1.2.0",
            "_view_name": "StyleView",
            "button_color": null,
            "font_weight": ""
          }
        },
        "cd0b366da79744688115b87fd98c19ce": {
          "model_module": "@jupyter-widgets/base",
          "model_name": "LayoutModel",
          "model_module_version": "1.2.0",
          "state": {
            "_model_module": "@jupyter-widgets/base",
            "_model_module_version": "1.2.0",
            "_model_name": "LayoutModel",
            "_view_count": null,
            "_view_module": "@jupyter-widgets/base",
            "_view_module_version": "1.2.0",
            "_view_name": "LayoutView",
            "align_content": null,
            "align_items": null,
            "align_self": null,
            "border": null,
            "bottom": null,
            "display": null,
            "flex": null,
            "flex_flow": null,
            "grid_area": null,
            "grid_auto_columns": null,
            "grid_auto_flow": null,
            "grid_auto_rows": null,
            "grid_column": null,
            "grid_gap": null,
            "grid_row": null,
            "grid_template_areas": null,
            "grid_template_columns": null,
            "grid_template_rows": null,
            "height": null,
            "justify_content": null,
            "justify_items": null,
            "left": null,
            "margin": null,
            "max_height": null,
            "max_width": null,
            "min_height": null,
            "min_width": null,
            "object_fit": null,
            "object_position": null,
            "order": null,
            "overflow": null,
            "overflow_x": null,
            "overflow_y": null,
            "padding": null,
            "right": null,
            "top": null,
            "visibility": null,
            "width": null
          }
        },
        "317b5ecd7e8f4931938ec84bfe1cf535": {
          "model_module": "@jupyter-widgets/controls",
          "model_name": "DescriptionStyleModel",
          "model_module_version": "1.5.0",
          "state": {
            "_model_module": "@jupyter-widgets/controls",
            "_model_module_version": "1.5.0",
            "_model_name": "DescriptionStyleModel",
            "_view_count": null,
            "_view_module": "@jupyter-widgets/base",
            "_view_module_version": "1.2.0",
            "_view_name": "StyleView",
            "description_width": ""
          }
        },
        "5248c16ff0fb4f5cbe1f8a9b7016e4e8": {
          "model_module": "@jupyter-widgets/controls",
          "model_name": "LabelModel",
          "model_module_version": "1.5.0",
          "state": {
            "_dom_classes": [],
            "_model_module": "@jupyter-widgets/controls",
            "_model_module_version": "1.5.0",
            "_model_name": "LabelModel",
            "_view_count": null,
            "_view_module": "@jupyter-widgets/controls",
            "_view_module_version": "1.5.0",
            "_view_name": "LabelView",
            "description": "",
            "description_tooltip": null,
            "layout": "IPY_MODEL_db314dd56b134ec589a1c41e6476a76c",
            "placeholder": "​",
            "style": "IPY_MODEL_9e7d5bfa0fbe4917b369fb774aa75047",
            "value": "Connecting..."
          }
        },
        "db314dd56b134ec589a1c41e6476a76c": {
          "model_module": "@jupyter-widgets/base",
          "model_name": "LayoutModel",
          "model_module_version": "1.2.0",
          "state": {
            "_model_module": "@jupyter-widgets/base",
            "_model_module_version": "1.2.0",
            "_model_name": "LayoutModel",
            "_view_count": null,
            "_view_module": "@jupyter-widgets/base",
            "_view_module_version": "1.2.0",
            "_view_name": "LayoutView",
            "align_content": null,
            "align_items": null,
            "align_self": null,
            "border": null,
            "bottom": null,
            "display": null,
            "flex": null,
            "flex_flow": null,
            "grid_area": null,
            "grid_auto_columns": null,
            "grid_auto_flow": null,
            "grid_auto_rows": null,
            "grid_column": null,
            "grid_gap": null,
            "grid_row": null,
            "grid_template_areas": null,
            "grid_template_columns": null,
            "grid_template_rows": null,
            "height": null,
            "justify_content": null,
            "justify_items": null,
            "left": null,
            "margin": null,
            "max_height": null,
            "max_width": null,
            "min_height": null,
            "min_width": null,
            "object_fit": null,
            "object_position": null,
            "order": null,
            "overflow": null,
            "overflow_x": null,
            "overflow_y": null,
            "padding": null,
            "right": null,
            "top": null,
            "visibility": null,
            "width": null
          }
        },
        "9e7d5bfa0fbe4917b369fb774aa75047": {
          "model_module": "@jupyter-widgets/controls",
          "model_name": "DescriptionStyleModel",
          "model_module_version": "1.5.0",
          "state": {
            "_model_module": "@jupyter-widgets/controls",
            "_model_module_version": "1.5.0",
            "_model_name": "DescriptionStyleModel",
            "_view_count": null,
            "_view_module": "@jupyter-widgets/base",
            "_view_module_version": "1.2.0",
            "_view_name": "StyleView",
            "description_width": ""
          }
        },
        "8079c2aa86ca4cfdbe9f59628dbe3a8c": {
          "model_module": "@jupyter-widgets/controls",
          "model_name": "HBoxModel",
          "model_module_version": "1.5.0",
          "state": {
            "_dom_classes": [],
            "_model_module": "@jupyter-widgets/controls",
            "_model_module_version": "1.5.0",
            "_model_name": "HBoxModel",
            "_view_count": null,
            "_view_module": "@jupyter-widgets/controls",
            "_view_module_version": "1.5.0",
            "_view_name": "HBoxView",
            "box_style": "",
            "children": [
              "IPY_MODEL_daf0d4af8c954e11bb1f8b916109cd13",
              "IPY_MODEL_92180f24dfc8405a88f5d54b06c9d000",
              "IPY_MODEL_9d2df27988f445b8b51c81ca9b928399"
            ],
            "layout": "IPY_MODEL_4d59de06bd7f46259808981f2a0eff45"
          }
        },
        "daf0d4af8c954e11bb1f8b916109cd13": {
          "model_module": "@jupyter-widgets/controls",
          "model_name": "HTMLModel",
          "model_module_version": "1.5.0",
          "state": {
            "_dom_classes": [],
            "_model_module": "@jupyter-widgets/controls",
            "_model_module_version": "1.5.0",
            "_model_name": "HTMLModel",
            "_view_count": null,
            "_view_module": "@jupyter-widgets/controls",
            "_view_module_version": "1.5.0",
            "_view_name": "HTMLView",
            "description": "",
            "description_tooltip": null,
            "layout": "IPY_MODEL_7c8724c498e545b5a59a1e40aeabb49f",
            "placeholder": "​",
            "style": "IPY_MODEL_22fe106c61f94c22b73a4f02ad23c16d",
            "value": "Loading checkpoint shards: 100%"
          }
        },
        "92180f24dfc8405a88f5d54b06c9d000": {
          "model_module": "@jupyter-widgets/controls",
          "model_name": "FloatProgressModel",
          "model_module_version": "1.5.0",
          "state": {
            "_dom_classes": [],
            "_model_module": "@jupyter-widgets/controls",
            "_model_module_version": "1.5.0",
            "_model_name": "FloatProgressModel",
            "_view_count": null,
            "_view_module": "@jupyter-widgets/controls",
            "_view_module_version": "1.5.0",
            "_view_name": "ProgressView",
            "bar_style": "success",
            "description": "",
            "description_tooltip": null,
            "layout": "IPY_MODEL_1ca300322f7046729b80924631f39937",
            "max": 2,
            "min": 0,
            "orientation": "horizontal",
            "style": "IPY_MODEL_843d4892508d4459bc32e8c1fb025ceb",
            "value": 2
          }
        },
        "9d2df27988f445b8b51c81ca9b928399": {
          "model_module": "@jupyter-widgets/controls",
          "model_name": "HTMLModel",
          "model_module_version": "1.5.0",
          "state": {
            "_dom_classes": [],
            "_model_module": "@jupyter-widgets/controls",
            "_model_module_version": "1.5.0",
            "_model_name": "HTMLModel",
            "_view_count": null,
            "_view_module": "@jupyter-widgets/controls",
            "_view_module_version": "1.5.0",
            "_view_name": "HTMLView",
            "description": "",
            "description_tooltip": null,
            "layout": "IPY_MODEL_fb9b6dc7f55947e2940e86f511ad6d82",
            "placeholder": "​",
            "style": "IPY_MODEL_659a3b2e02264082b5cd684ebe6261c4",
            "value": " 2/2 [01:14&lt;00:00, 34.14s/it]"
          }
        },
        "4d59de06bd7f46259808981f2a0eff45": {
          "model_module": "@jupyter-widgets/base",
          "model_name": "LayoutModel",
          "model_module_version": "1.2.0",
          "state": {
            "_model_module": "@jupyter-widgets/base",
            "_model_module_version": "1.2.0",
            "_model_name": "LayoutModel",
            "_view_count": null,
            "_view_module": "@jupyter-widgets/base",
            "_view_module_version": "1.2.0",
            "_view_name": "LayoutView",
            "align_content": null,
            "align_items": null,
            "align_self": null,
            "border": null,
            "bottom": null,
            "display": null,
            "flex": null,
            "flex_flow": null,
            "grid_area": null,
            "grid_auto_columns": null,
            "grid_auto_flow": null,
            "grid_auto_rows": null,
            "grid_column": null,
            "grid_gap": null,
            "grid_row": null,
            "grid_template_areas": null,
            "grid_template_columns": null,
            "grid_template_rows": null,
            "height": null,
            "justify_content": null,
            "justify_items": null,
            "left": null,
            "margin": null,
            "max_height": null,
            "max_width": null,
            "min_height": null,
            "min_width": null,
            "object_fit": null,
            "object_position": null,
            "order": null,
            "overflow": null,
            "overflow_x": null,
            "overflow_y": null,
            "padding": null,
            "right": null,
            "top": null,
            "visibility": null,
            "width": null
          }
        },
        "7c8724c498e545b5a59a1e40aeabb49f": {
          "model_module": "@jupyter-widgets/base",
          "model_name": "LayoutModel",
          "model_module_version": "1.2.0",
          "state": {
            "_model_module": "@jupyter-widgets/base",
            "_model_module_version": "1.2.0",
            "_model_name": "LayoutModel",
            "_view_count": null,
            "_view_module": "@jupyter-widgets/base",
            "_view_module_version": "1.2.0",
            "_view_name": "LayoutView",
            "align_content": null,
            "align_items": null,
            "align_self": null,
            "border": null,
            "bottom": null,
            "display": null,
            "flex": null,
            "flex_flow": null,
            "grid_area": null,
            "grid_auto_columns": null,
            "grid_auto_flow": null,
            "grid_auto_rows": null,
            "grid_column": null,
            "grid_gap": null,
            "grid_row": null,
            "grid_template_areas": null,
            "grid_template_columns": null,
            "grid_template_rows": null,
            "height": null,
            "justify_content": null,
            "justify_items": null,
            "left": null,
            "margin": null,
            "max_height": null,
            "max_width": null,
            "min_height": null,
            "min_width": null,
            "object_fit": null,
            "object_position": null,
            "order": null,
            "overflow": null,
            "overflow_x": null,
            "overflow_y": null,
            "padding": null,
            "right": null,
            "top": null,
            "visibility": null,
            "width": null
          }
        },
        "22fe106c61f94c22b73a4f02ad23c16d": {
          "model_module": "@jupyter-widgets/controls",
          "model_name": "DescriptionStyleModel",
          "model_module_version": "1.5.0",
          "state": {
            "_model_module": "@jupyter-widgets/controls",
            "_model_module_version": "1.5.0",
            "_model_name": "DescriptionStyleModel",
            "_view_count": null,
            "_view_module": "@jupyter-widgets/base",
            "_view_module_version": "1.2.0",
            "_view_name": "StyleView",
            "description_width": ""
          }
        },
        "1ca300322f7046729b80924631f39937": {
          "model_module": "@jupyter-widgets/base",
          "model_name": "LayoutModel",
          "model_module_version": "1.2.0",
          "state": {
            "_model_module": "@jupyter-widgets/base",
            "_model_module_version": "1.2.0",
            "_model_name": "LayoutModel",
            "_view_count": null,
            "_view_module": "@jupyter-widgets/base",
            "_view_module_version": "1.2.0",
            "_view_name": "LayoutView",
            "align_content": null,
            "align_items": null,
            "align_self": null,
            "border": null,
            "bottom": null,
            "display": null,
            "flex": null,
            "flex_flow": null,
            "grid_area": null,
            "grid_auto_columns": null,
            "grid_auto_flow": null,
            "grid_auto_rows": null,
            "grid_column": null,
            "grid_gap": null,
            "grid_row": null,
            "grid_template_areas": null,
            "grid_template_columns": null,
            "grid_template_rows": null,
            "height": null,
            "justify_content": null,
            "justify_items": null,
            "left": null,
            "margin": null,
            "max_height": null,
            "max_width": null,
            "min_height": null,
            "min_width": null,
            "object_fit": null,
            "object_position": null,
            "order": null,
            "overflow": null,
            "overflow_x": null,
            "overflow_y": null,
            "padding": null,
            "right": null,
            "top": null,
            "visibility": null,
            "width": null
          }
        },
        "843d4892508d4459bc32e8c1fb025ceb": {
          "model_module": "@jupyter-widgets/controls",
          "model_name": "ProgressStyleModel",
          "model_module_version": "1.5.0",
          "state": {
            "_model_module": "@jupyter-widgets/controls",
            "_model_module_version": "1.5.0",
            "_model_name": "ProgressStyleModel",
            "_view_count": null,
            "_view_module": "@jupyter-widgets/base",
            "_view_module_version": "1.2.0",
            "_view_name": "StyleView",
            "bar_color": null,
            "description_width": ""
          }
        },
        "fb9b6dc7f55947e2940e86f511ad6d82": {
          "model_module": "@jupyter-widgets/base",
          "model_name": "LayoutModel",
          "model_module_version": "1.2.0",
          "state": {
            "_model_module": "@jupyter-widgets/base",
            "_model_module_version": "1.2.0",
            "_model_name": "LayoutModel",
            "_view_count": null,
            "_view_module": "@jupyter-widgets/base",
            "_view_module_version": "1.2.0",
            "_view_name": "LayoutView",
            "align_content": null,
            "align_items": null,
            "align_self": null,
            "border": null,
            "bottom": null,
            "display": null,
            "flex": null,
            "flex_flow": null,
            "grid_area": null,
            "grid_auto_columns": null,
            "grid_auto_flow": null,
            "grid_auto_rows": null,
            "grid_column": null,
            "grid_gap": null,
            "grid_row": null,
            "grid_template_areas": null,
            "grid_template_columns": null,
            "grid_template_rows": null,
            "height": null,
            "justify_content": null,
            "justify_items": null,
            "left": null,
            "margin": null,
            "max_height": null,
            "max_width": null,
            "min_height": null,
            "min_width": null,
            "object_fit": null,
            "object_position": null,
            "order": null,
            "overflow": null,
            "overflow_x": null,
            "overflow_y": null,
            "padding": null,
            "right": null,
            "top": null,
            "visibility": null,
            "width": null
          }
        },
        "659a3b2e02264082b5cd684ebe6261c4": {
          "model_module": "@jupyter-widgets/controls",
          "model_name": "DescriptionStyleModel",
          "model_module_version": "1.5.0",
          "state": {
            "_model_module": "@jupyter-widgets/controls",
            "_model_module_version": "1.5.0",
            "_model_name": "DescriptionStyleModel",
            "_view_count": null,
            "_view_module": "@jupyter-widgets/base",
            "_view_module_version": "1.2.0",
            "_view_name": "StyleView",
            "description_width": ""
          }
        }
      }
    }
  },
  "cells": [
    {
      "cell_type": "markdown",
      "source": [
        "INSTALL PACKAGES"
      ],
      "metadata": {
        "id": "qAg90cGvPLZN"
      }
    },
    {
      "cell_type": "code",
      "execution_count": 3,
      "metadata": {
        "id": "zLTtwR54bROA"
      },
      "outputs": [],
      "source": [
        "!pip -q install langchain"
      ]
    },
    {
      "cell_type": "code",
      "source": [
        "!pip -q install bitsandbytes accelerate transformers"
      ],
      "metadata": {
        "id": "du5r7NhMbp0f"
      },
      "execution_count": 4,
      "outputs": []
    },
    {
      "cell_type": "code",
      "source": [
        "!pip -q install sentence_transformers"
      ],
      "metadata": {
        "id": "FUIflfijbvTL"
      },
      "execution_count": 5,
      "outputs": []
    },
    {
      "cell_type": "code",
      "source": [
        "!pip -q install unstructured"
      ],
      "metadata": {
        "id": "tBQzwyQgb3Uk"
      },
      "execution_count": 6,
      "outputs": []
    },
    {
      "cell_type": "code",
      "source": [
        "# !pip install pinecone-client==2.2.4\n",
        "!pip install pinecone-client==2.2.1"
      ],
      "metadata": {
        "colab": {
          "base_uri": "https://localhost:8080/"
        },
        "id": "qxOCisb-b5-s",
        "outputId": "bd9dc60a-2710-4ad1-bce1-2fbbbb016f7e"
      },
      "execution_count": 7,
      "outputs": [
        {
          "output_type": "stream",
          "name": "stdout",
          "text": [
            "Collecting pinecone-client==2.2.1\n",
            "  Using cached pinecone_client-2.2.1-py3-none-any.whl.metadata (7.8 kB)\n",
            "Requirement already satisfied: requests>=2.19.0 in /usr/local/lib/python3.10/dist-packages (from pinecone-client==2.2.1) (2.32.3)\n",
            "Requirement already satisfied: pyyaml>=5.4 in /usr/local/lib/python3.10/dist-packages (from pinecone-client==2.2.1) (6.0.2)\n",
            "Requirement already satisfied: loguru>=0.5.0 in /usr/local/lib/python3.10/dist-packages (from pinecone-client==2.2.1) (0.7.3)\n",
            "Requirement already satisfied: typing-extensions>=3.7.4 in /usr/local/lib/python3.10/dist-packages (from pinecone-client==2.2.1) (4.12.2)\n",
            "Requirement already satisfied: dnspython>=2.0.0 in /usr/local/lib/python3.10/dist-packages (from pinecone-client==2.2.1) (2.7.0)\n",
            "Requirement already satisfied: python-dateutil>=2.5.3 in /usr/local/lib/python3.10/dist-packages (from pinecone-client==2.2.1) (2.8.2)\n",
            "Requirement already satisfied: urllib3>=1.21.1 in /usr/local/lib/python3.10/dist-packages (from pinecone-client==2.2.1) (2.2.3)\n",
            "Requirement already satisfied: tqdm>=4.64.1 in /usr/local/lib/python3.10/dist-packages (from pinecone-client==2.2.1) (4.67.1)\n",
            "Requirement already satisfied: numpy in /usr/local/lib/python3.10/dist-packages (from pinecone-client==2.2.1) (1.24.4)\n",
            "Requirement already satisfied: six>=1.5 in /usr/local/lib/python3.10/dist-packages (from python-dateutil>=2.5.3->pinecone-client==2.2.1) (1.17.0)\n",
            "Requirement already satisfied: charset-normalizer<4,>=2 in /usr/local/lib/python3.10/dist-packages (from requests>=2.19.0->pinecone-client==2.2.1) (3.4.0)\n",
            "Requirement already satisfied: idna<4,>=2.5 in /usr/local/lib/python3.10/dist-packages (from requests>=2.19.0->pinecone-client==2.2.1) (3.10)\n",
            "Requirement already satisfied: certifi>=2017.4.17 in /usr/local/lib/python3.10/dist-packages (from requests>=2.19.0->pinecone-client==2.2.1) (2024.12.14)\n",
            "Using cached pinecone_client-2.2.1-py3-none-any.whl (177 kB)\n",
            "Installing collected packages: pinecone-client\n",
            "  Attempting uninstall: pinecone-client\n",
            "    Found existing installation: pinecone-client 5.0.1\n",
            "    Uninstalling pinecone-client-5.0.1:\n",
            "      Successfully uninstalled pinecone-client-5.0.1\n",
            "Successfully installed pinecone-client-2.2.1\n"
          ]
        }
      ]
    },
    {
      "cell_type": "code",
      "source": [
        "# !pip install numpy==1.24.4"
      ],
      "metadata": {
        "id": "YNuvBO2pb-Qe"
      },
      "execution_count": 8,
      "outputs": []
    },
    {
      "cell_type": "code",
      "source": [
        "!pip install -U langchain-community"
      ],
      "metadata": {
        "colab": {
          "base_uri": "https://localhost:8080/"
        },
        "id": "0J1XAUn1dfmn",
        "outputId": "673863fa-7d1f-4e48-f5c4-420dd05dae85"
      },
      "execution_count": 9,
      "outputs": [
        {
          "output_type": "stream",
          "name": "stdout",
          "text": [
            "Requirement already satisfied: langchain-community in /usr/local/lib/python3.10/dist-packages (0.3.13)\n",
            "Requirement already satisfied: PyYAML>=5.3 in /usr/local/lib/python3.10/dist-packages (from langchain-community) (6.0.2)\n",
            "Requirement already satisfied: SQLAlchemy<3,>=1.4 in /usr/local/lib/python3.10/dist-packages (from langchain-community) (2.0.36)\n",
            "Requirement already satisfied: aiohttp<4.0.0,>=3.8.3 in /usr/local/lib/python3.10/dist-packages (from langchain-community) (3.11.10)\n",
            "Requirement already satisfied: dataclasses-json<0.7,>=0.5.7 in /usr/local/lib/python3.10/dist-packages (from langchain-community) (0.6.7)\n",
            "Requirement already satisfied: httpx-sse<0.5.0,>=0.4.0 in /usr/local/lib/python3.10/dist-packages (from langchain-community) (0.4.0)\n",
            "Requirement already satisfied: langchain<0.4.0,>=0.3.13 in /usr/local/lib/python3.10/dist-packages (from langchain-community) (0.3.13)\n",
            "Requirement already satisfied: langchain-core<0.4.0,>=0.3.27 in /usr/local/lib/python3.10/dist-packages (from langchain-community) (0.3.28)\n",
            "Requirement already satisfied: langsmith<0.3,>=0.1.125 in /usr/local/lib/python3.10/dist-packages (from langchain-community) (0.2.3)\n",
            "Requirement already satisfied: numpy<2,>=1.22.4 in /usr/local/lib/python3.10/dist-packages (from langchain-community) (1.24.4)\n",
            "Requirement already satisfied: pydantic-settings<3.0.0,>=2.4.0 in /usr/local/lib/python3.10/dist-packages (from langchain-community) (2.7.0)\n",
            "Requirement already satisfied: requests<3,>=2 in /usr/local/lib/python3.10/dist-packages (from langchain-community) (2.32.3)\n",
            "Requirement already satisfied: tenacity!=8.4.0,<10,>=8.1.0 in /usr/local/lib/python3.10/dist-packages (from langchain-community) (9.0.0)\n",
            "Requirement already satisfied: aiohappyeyeballs>=2.3.0 in /usr/local/lib/python3.10/dist-packages (from aiohttp<4.0.0,>=3.8.3->langchain-community) (2.4.4)\n",
            "Requirement already satisfied: aiosignal>=1.1.2 in /usr/local/lib/python3.10/dist-packages (from aiohttp<4.0.0,>=3.8.3->langchain-community) (1.3.2)\n",
            "Requirement already satisfied: async-timeout<6.0,>=4.0 in /usr/local/lib/python3.10/dist-packages (from aiohttp<4.0.0,>=3.8.3->langchain-community) (4.0.3)\n",
            "Requirement already satisfied: attrs>=17.3.0 in /usr/local/lib/python3.10/dist-packages (from aiohttp<4.0.0,>=3.8.3->langchain-community) (24.3.0)\n",
            "Requirement already satisfied: frozenlist>=1.1.1 in /usr/local/lib/python3.10/dist-packages (from aiohttp<4.0.0,>=3.8.3->langchain-community) (1.5.0)\n",
            "Requirement already satisfied: multidict<7.0,>=4.5 in /usr/local/lib/python3.10/dist-packages (from aiohttp<4.0.0,>=3.8.3->langchain-community) (6.1.0)\n",
            "Requirement already satisfied: propcache>=0.2.0 in /usr/local/lib/python3.10/dist-packages (from aiohttp<4.0.0,>=3.8.3->langchain-community) (0.2.1)\n",
            "Requirement already satisfied: yarl<2.0,>=1.17.0 in /usr/local/lib/python3.10/dist-packages (from aiohttp<4.0.0,>=3.8.3->langchain-community) (1.18.3)\n",
            "Requirement already satisfied: marshmallow<4.0.0,>=3.18.0 in /usr/local/lib/python3.10/dist-packages (from dataclasses-json<0.7,>=0.5.7->langchain-community) (3.23.2)\n",
            "Requirement already satisfied: typing-inspect<1,>=0.4.0 in /usr/local/lib/python3.10/dist-packages (from dataclasses-json<0.7,>=0.5.7->langchain-community) (0.9.0)\n",
            "Requirement already satisfied: langchain-text-splitters<0.4.0,>=0.3.3 in /usr/local/lib/python3.10/dist-packages (from langchain<0.4.0,>=0.3.13->langchain-community) (0.3.3)\n",
            "Requirement already satisfied: pydantic<3.0.0,>=2.7.4 in /usr/local/lib/python3.10/dist-packages (from langchain<0.4.0,>=0.3.13->langchain-community) (2.9.2)\n",
            "Requirement already satisfied: jsonpatch<2.0,>=1.33 in /usr/local/lib/python3.10/dist-packages (from langchain-core<0.4.0,>=0.3.27->langchain-community) (1.33)\n",
            "Requirement already satisfied: packaging<25,>=23.2 in /usr/local/lib/python3.10/dist-packages (from langchain-core<0.4.0,>=0.3.27->langchain-community) (24.2)\n",
            "Requirement already satisfied: typing-extensions>=4.7 in /usr/local/lib/python3.10/dist-packages (from langchain-core<0.4.0,>=0.3.27->langchain-community) (4.12.2)\n",
            "Requirement already satisfied: httpx<1,>=0.23.0 in /usr/local/lib/python3.10/dist-packages (from langsmith<0.3,>=0.1.125->langchain-community) (0.28.1)\n",
            "Requirement already satisfied: orjson<4.0.0,>=3.9.14 in /usr/local/lib/python3.10/dist-packages (from langsmith<0.3,>=0.1.125->langchain-community) (3.10.12)\n",
            "Requirement already satisfied: requests-toolbelt<2.0.0,>=1.0.0 in /usr/local/lib/python3.10/dist-packages (from langsmith<0.3,>=0.1.125->langchain-community) (1.0.0)\n",
            "Requirement already satisfied: python-dotenv>=0.21.0 in /usr/local/lib/python3.10/dist-packages (from pydantic-settings<3.0.0,>=2.4.0->langchain-community) (1.0.1)\n",
            "Requirement already satisfied: charset-normalizer<4,>=2 in /usr/local/lib/python3.10/dist-packages (from requests<3,>=2->langchain-community) (3.4.0)\n",
            "Requirement already satisfied: idna<4,>=2.5 in /usr/local/lib/python3.10/dist-packages (from requests<3,>=2->langchain-community) (3.10)\n",
            "Requirement already satisfied: urllib3<3,>=1.21.1 in /usr/local/lib/python3.10/dist-packages (from requests<3,>=2->langchain-community) (2.2.3)\n",
            "Requirement already satisfied: certifi>=2017.4.17 in /usr/local/lib/python3.10/dist-packages (from requests<3,>=2->langchain-community) (2024.12.14)\n",
            "Requirement already satisfied: greenlet!=0.4.17 in /usr/local/lib/python3.10/dist-packages (from SQLAlchemy<3,>=1.4->langchain-community) (3.1.1)\n",
            "Requirement already satisfied: anyio in /usr/local/lib/python3.10/dist-packages (from httpx<1,>=0.23.0->langsmith<0.3,>=0.1.125->langchain-community) (3.7.1)\n",
            "Requirement already satisfied: httpcore==1.* in /usr/local/lib/python3.10/dist-packages (from httpx<1,>=0.23.0->langsmith<0.3,>=0.1.125->langchain-community) (1.0.7)\n",
            "Requirement already satisfied: h11<0.15,>=0.13 in /usr/local/lib/python3.10/dist-packages (from httpcore==1.*->httpx<1,>=0.23.0->langsmith<0.3,>=0.1.125->langchain-community) (0.14.0)\n",
            "Requirement already satisfied: jsonpointer>=1.9 in /usr/local/lib/python3.10/dist-packages (from jsonpatch<2.0,>=1.33->langchain-core<0.4.0,>=0.3.27->langchain-community) (3.0.0)\n",
            "Requirement already satisfied: annotated-types>=0.6.0 in /usr/local/lib/python3.10/dist-packages (from pydantic<3.0.0,>=2.7.4->langchain<0.4.0,>=0.3.13->langchain-community) (0.7.0)\n",
            "Requirement already satisfied: pydantic-core==2.23.4 in /usr/local/lib/python3.10/dist-packages (from pydantic<3.0.0,>=2.7.4->langchain<0.4.0,>=0.3.13->langchain-community) (2.23.4)\n",
            "Requirement already satisfied: mypy-extensions>=0.3.0 in /usr/local/lib/python3.10/dist-packages (from typing-inspect<1,>=0.4.0->dataclasses-json<0.7,>=0.5.7->langchain-community) (1.0.0)\n",
            "Requirement already satisfied: sniffio>=1.1 in /usr/local/lib/python3.10/dist-packages (from anyio->httpx<1,>=0.23.0->langsmith<0.3,>=0.1.125->langchain-community) (1.3.1)\n",
            "Requirement already satisfied: exceptiongroup in /usr/local/lib/python3.10/dist-packages (from anyio->httpx<1,>=0.23.0->langsmith<0.3,>=0.1.125->langchain-community) (1.2.2)\n"
          ]
        }
      ]
    },
    {
      "cell_type": "markdown",
      "source": [
        "IMPORT PACKAGES"
      ],
      "metadata": {
        "id": "YqsvAY9EPJrW"
      }
    },
    {
      "cell_type": "code",
      "source": [
        "!pip install --upgrade pinecone-client urllib3"
      ],
      "metadata": {
        "colab": {
          "base_uri": "https://localhost:8080/"
        },
        "id": "qCWFpToV5wqu",
        "outputId": "9fe6d515-91be-4e60-eb1c-ce7fa776823a"
      },
      "execution_count": 10,
      "outputs": [
        {
          "output_type": "stream",
          "name": "stdout",
          "text": [
            "Requirement already satisfied: pinecone-client in /usr/local/lib/python3.10/dist-packages (2.2.1)\n",
            "Collecting pinecone-client\n",
            "  Using cached pinecone_client-5.0.1-py3-none-any.whl.metadata (19 kB)\n",
            "Requirement already satisfied: urllib3 in /usr/local/lib/python3.10/dist-packages (2.2.3)\n",
            "Requirement already satisfied: certifi>=2019.11.17 in /usr/local/lib/python3.10/dist-packages (from pinecone-client) (2024.12.14)\n",
            "Requirement already satisfied: pinecone-plugin-inference<2.0.0,>=1.0.3 in /usr/local/lib/python3.10/dist-packages (from pinecone-client) (1.1.0)\n",
            "Requirement already satisfied: pinecone-plugin-interface<0.0.8,>=0.0.7 in /usr/local/lib/python3.10/dist-packages (from pinecone-client) (0.0.7)\n",
            "Requirement already satisfied: tqdm>=4.64.1 in /usr/local/lib/python3.10/dist-packages (from pinecone-client) (4.67.1)\n",
            "Requirement already satisfied: typing-extensions>=3.7.4 in /usr/local/lib/python3.10/dist-packages (from pinecone-client) (4.12.2)\n",
            "Using cached pinecone_client-5.0.1-py3-none-any.whl (244 kB)\n",
            "Installing collected packages: pinecone-client\n",
            "  Attempting uninstall: pinecone-client\n",
            "    Found existing installation: pinecone-client 2.2.1\n",
            "    Uninstalling pinecone-client-2.2.1:\n",
            "      Successfully uninstalled pinecone-client-2.2.1\n",
            "Successfully installed pinecone-client-5.0.1\n"
          ]
        }
      ]
    },
    {
      "cell_type": "code",
      "source": [
        "from langchain.document_loaders import UnstructuredURLLoader\n",
        "from langchain.text_splitter import CharacterTextSplitter\n",
        "from langchain.vectorstores import Pinecone\n",
        "import pinecone\n",
        "from langchain.embeddings import HuggingFaceEmbeddings\n",
        "from transformers import AutoTokenizer,AutoModelForCausalLM\n",
        "import transformers\n",
        "from langchain import HuggingFacePipeline\n",
        "from huggingface_hub import notebook_login\n",
        "import torch"
      ],
      "metadata": {
        "id": "Me2AH7b3cYWi"
      },
      "execution_count": 11,
      "outputs": []
    },
    {
      "cell_type": "markdown",
      "source": [
        "LOAD DATA"
      ],
      "metadata": {
        "id": "L-GJesGBPSfT"
      }
    },
    {
      "cell_type": "code",
      "source": [
        "# Data and SiteMap\n",
        "URLs=[\"https://ineuron.ai/\"]\n",
        "loader = UnstructuredURLLoader(urls=URLs)\n",
        "data=loader.load()"
      ],
      "metadata": {
        "id": "dZuuP04BdV4T"
      },
      "execution_count": 12,
      "outputs": []
    },
    {
      "cell_type": "code",
      "source": [
        "data"
      ],
      "metadata": {
        "colab": {
          "base_uri": "https://localhost:8080/"
        },
        "id": "MBLQZ6SQeKF1",
        "outputId": "e861c5a4-3dfc-4c71-edcd-95cbb89c51bb"
      },
      "execution_count": 13,
      "outputs": [
        {
          "output_type": "execute_result",
          "data": {
            "text/plain": [
              "[Document(metadata={'source': 'https://ineuron.ai/'}, page_content='Learning with iNeuron made\\n\\nTake your career to the next level with industry ready programs, An entire learning ecosystem at your fingertips to make learning fun. Choose from a range of tech programs and make your next big career switch.\\n\\n55%\\n\\nAverage Salary Hike\\n\\n400+\\n\\nDifferent Courses\\n\\n10000+\\n\\nCareer Transitions\\n\\n400+\\n\\nHiring Partners\\n\\nLIVE NOW\\n\\nSupport System\\n\\nOur support system is live again, this time it is bigger, better and faster. Experience a tech community like never seen before\\n\\nOur Courses\\n\\nSuccess Stories\\n\\nFresher\\n\\nAbhisekh Bhuyan\\n\\nMLOps engineer\\n\\nI got job as an MLOps engineer at synapsica at 13 LPA PPO because of \"End to End projects MLOps\" from iNeuron.\\n\\nFrom\\n\\nFresher\\n\\nTo\\n\\n79% Increment\\n\\nSubham Kanungo\\n\\nAssociate Data Scientist\\n\\nI just joined EY as data analyst. It would not be possible with the support of Krish sir and Sudhanshu sir.\\n\\nFrom\\n\\nTo\\n\\n100% Increment\\n\\nSayan Saha\\n\\nSoftware Engineer - Python\\n\\nI am very happy to share that I have joined an organization as a Software Engineer - Python (CTC 8LPA).\\n\\nFrom\\n\\nTo\\n\\nFresher\\n\\nSushant Sur\\n\\nSenior Analyst\\n\\nFinally after the continuous guidance and support from Sudhanshu and Krish Sir, I am able to start my career with Dell as Senior Analyst.\\n\\nFrom\\n\\nIntern\\n\\nTo\\n\\n55% Increment\\n\\nNeeraj Bafila\\n\\nData Scientist\\n\\nWith the help of Data Science course I am able to transition from Sys admin to Data Scientist and joining Infosys. Thanks for superb mentoring.\\n\\nFrom\\n\\nTo\\n\\nFresher\\n\\nVaibhav Joshi\\n\\nConsultant\\n\\nI want to thank you iNeuron, I got placed at KPMG Bangalore because of the FSDA course. Thanks once again.\\n\\nFrom\\n\\nIntern\\n\\nTo\\n\\nFresher\\n\\nAdityaraj Chaudhari\\n\\nML Engineer\\n\\nI am delighted to inform you that I have successfully joined Zycus Infotech as trainee ML Engineer.\\n\\nFrom\\n\\nFresher\\n\\nTo\\n\\n300% Increment\\n\\nDisha Balpande\\n\\nML Engineer\\n\\nThank You so much for wonerful course and videos, I got a job at Adidas with 300% Hike.\\n\\nFrom\\n\\nTo\\n\\n150% Increment\\n\\nShubham Bharadwaj\\n\\nFinance Analyst\\n\\nI am beyond elated to announce that I have joined Deloitte USI as Analyst- Finance. Excited to move ahead in my carrer with biggest of the Big 4.\\n\\nFrom\\n\\nTo\\n\\n60% Increment\\n\\nPraveen Iyer\\n\\nSenior Software Engineer\\n\\nI have got an opportunity for a semiconductor chip manufacturing company in Bengaluru as Senior Software Engineer.\\n\\nFrom\\n\\nTo\\n\\nExplore Our Ecosystem\\n\\nA one-stop destination for all your learning to placement needs\\n\\nNeuro Lab\\n\\nGet premium access to a state-of-the-art virtual lab with infinite computing so you won\\'t need additional investments in high-end PCs\\n\\nJob Portal\\n\\nNew-age jobs need new-age technology, Build resumes in minutes, Apply for exclusive jobs or hire fresh talent we have you covered.\\n\\nOne Neuron\\n\\nSpecialized bundled programs tailored to cater to your specific requirements. 500+ Tech courses bundled to make learning easy and affordable\\n\\nSupport System\\n\\nComplex doubt or joining a like minded community at your fingertips\\n\\nInternship Portal\\n\\nChoose from over 500+ live projects across various domains Build, collaborate and grow with peers.\\n\\nTODO\\n\\nCompleted\\n\\nIn Progress\\n\\nBacklog\\n\\nBecome an affiliate\\n\\nEarn while you learn\\n\\nHall of fame\\n\\nLearn from alumnus who cracked the code\\n\\nI want to express my gratitude to Krish Naik, Sudhanshu Kumar and Sunny Savita for their instrumental role in my data science journey.\\n\\nAbhinav Dwivedi\\n\\nData Scientist, Softsensor.ai\\n\\nThanks to the iNeuron team for teaching me the skillsets to get this fantastic job. it was an amazing journey of 8-9 months. Special thanks to Sudhanshu sir\\n\\nSaransh Sehrawat\\n\\nAssociate Consultant, EY\\n\\nA big thanks to the iNeuron team for helping us to enhance our technical knowledge to achieve everyone\\'s dream. My gratitude to all instructors for all you have.\\n\\nPayel Tarafder\\n\\nSystem Engineer, TCS\\n\\nIt was through Krish\\'s videos that I first learned about INEURON, and without hesitation, I joined the inaugural FULL STACK DATA ANALYTICS Course in June 2022.\\n\\nRupam Gupta\\n\\nBusiness Analyst, Keseya\\n\\nHackathon\\n\\nEmbark on an adventure of creativity, teamwork, and coding brilliance using our advanced Hackathon Portal!\\n\\nOur Alumni\\'s Are Placed At\\n\\n500+ Hiring Partners\\n\\nFooter\\n\\ncontact@ineuron.ai\\n\\n+91 8071176111\\n\\nFacebookInstagramYoutubeTwitterLinkedinDiscord\\n\\nCompany\\n\\nAbout us\\n\\nContact us\\n\\nFAQs\\n\\nCertificate verification\\n\\nPrivacy policy\\n\\nTerms and conditions\\n\\nProducts\\n\\nOne Neuron\\n\\nSupport System\\n\\nNeuro Lab\\n\\nJob Portal\\n\\nInternship Portal\\n\\nBecome an affiliate\\n\\nHall of fame\\n\\nHackathon')]"
            ]
          },
          "metadata": {},
          "execution_count": 13
        }
      ]
    },
    {
      "cell_type": "markdown",
      "source": [
        "CHUNKING"
      ],
      "metadata": {
        "id": "VJadqoUbPVYV"
      }
    },
    {
      "cell_type": "code",
      "source": [
        "#Chunkings\n",
        "text_splitter= CharacterTextSplitter(separator='\\n',chunk_size=1000,chunk_overlap=200)\n",
        "text_chunks = text_splitter.split_documents(data)"
      ],
      "metadata": {
        "id": "dGLL8dQ3eO7M"
      },
      "execution_count": 14,
      "outputs": []
    },
    {
      "cell_type": "code",
      "source": [
        "text_chunks"
      ],
      "metadata": {
        "colab": {
          "base_uri": "https://localhost:8080/"
        },
        "id": "X6B8CGdLfmIs",
        "outputId": "31625bc3-bce5-495d-ee7d-c5ab9b3cace4"
      },
      "execution_count": 15,
      "outputs": [
        {
          "output_type": "execute_result",
          "data": {
            "text/plain": [
              "[Document(metadata={'source': 'https://ineuron.ai/'}, page_content='Learning with iNeuron made\\nTake your career to the next level with industry ready programs, An entire learning ecosystem at your fingertips to make learning fun. Choose from a range of tech programs and make your next big career switch.\\n55%\\nAverage Salary Hike\\n400+\\nDifferent Courses\\n10000+\\nCareer Transitions\\n400+\\nHiring Partners\\nLIVE NOW\\nSupport System\\nOur support system is live again, this time it is bigger, better and faster. Experience a tech community like never seen before\\nOur Courses\\nSuccess Stories\\nFresher\\nAbhisekh Bhuyan\\nMLOps engineer\\nI got job as an MLOps engineer at synapsica at 13 LPA PPO because of \"End to End projects MLOps\" from iNeuron.\\nFrom\\nFresher\\nTo\\n79% Increment\\nSubham Kanungo\\nAssociate Data Scientist\\nI just joined EY as data analyst. It would not be possible with the support of Krish sir and Sudhanshu sir.\\nFrom\\nTo\\n100% Increment\\nSayan Saha\\nSoftware Engineer - Python'),\n",
              " Document(metadata={'source': 'https://ineuron.ai/'}, page_content='Associate Data Scientist\\nI just joined EY as data analyst. It would not be possible with the support of Krish sir and Sudhanshu sir.\\nFrom\\nTo\\n100% Increment\\nSayan Saha\\nSoftware Engineer - Python\\nI am very happy to share that I have joined an organization as a Software Engineer - Python (CTC 8LPA).\\nFrom\\nTo\\nFresher\\nSushant Sur\\nSenior Analyst\\nFinally after the continuous guidance and support from Sudhanshu and Krish Sir, I am able to start my career with Dell as Senior Analyst.\\nFrom\\nIntern\\nTo\\n55% Increment\\nNeeraj Bafila\\nData Scientist\\nWith the help of Data Science course I am able to transition from Sys admin to Data Scientist and joining Infosys. Thanks for superb mentoring.\\nFrom\\nTo\\nFresher\\nVaibhav Joshi\\nConsultant\\nI want to thank you iNeuron, I got placed at KPMG Bangalore because of the FSDA course. Thanks once again.\\nFrom\\nIntern\\nTo\\nFresher\\nAdityaraj Chaudhari\\nML Engineer\\nI am delighted to inform you that I have successfully joined Zycus Infotech as trainee ML Engineer.\\nFrom\\nFresher\\nTo'),\n",
              " Document(metadata={'source': 'https://ineuron.ai/'}, page_content=\"From\\nIntern\\nTo\\nFresher\\nAdityaraj Chaudhari\\nML Engineer\\nI am delighted to inform you that I have successfully joined Zycus Infotech as trainee ML Engineer.\\nFrom\\nFresher\\nTo\\n300% Increment\\nDisha Balpande\\nML Engineer\\nThank You so much for wonerful course and videos, I got a job at Adidas with 300% Hike.\\nFrom\\nTo\\n150% Increment\\nShubham Bharadwaj\\nFinance Analyst\\nI am beyond elated to announce that I have joined Deloitte USI as Analyst- Finance. Excited to move ahead in my carrer with biggest of the Big 4.\\nFrom\\nTo\\n60% Increment\\nPraveen Iyer\\nSenior Software Engineer\\nI have got an opportunity for a semiconductor chip manufacturing company in Bengaluru as Senior Software Engineer.\\nFrom\\nTo\\nExplore Our Ecosystem\\nA one-stop destination for all your learning to placement needs\\nNeuro Lab\\nGet premium access to a state-of-the-art virtual lab with infinite computing so you won't need additional investments in high-end PCs\\nJob Portal\"),\n",
              " Document(metadata={'source': 'https://ineuron.ai/'}, page_content=\"Neuro Lab\\nGet premium access to a state-of-the-art virtual lab with infinite computing so you won't need additional investments in high-end PCs\\nJob Portal\\nNew-age jobs need new-age technology, Build resumes in minutes, Apply for exclusive jobs or hire fresh talent we have you covered.\\nOne Neuron\\nSpecialized bundled programs tailored to cater to your specific requirements. 500+ Tech courses bundled to make learning easy and affordable\\nSupport System\\nComplex doubt or joining a like minded community at your fingertips\\nInternship Portal\\nChoose from over 500+ live projects across various domains Build, collaborate and grow with peers.\\nTODO\\nCompleted\\nIn Progress\\nBacklog\\nBecome an affiliate\\nEarn while you learn\\nHall of fame\\nLearn from alumnus who cracked the code\\nI want to express my gratitude to Krish Naik, Sudhanshu Kumar and Sunny Savita for their instrumental role in my data science journey.\\nAbhinav Dwivedi\\nData Scientist, Softsensor.ai\"),\n",
              " Document(metadata={'source': 'https://ineuron.ai/'}, page_content=\"I want to express my gratitude to Krish Naik, Sudhanshu Kumar and Sunny Savita for their instrumental role in my data science journey.\\nAbhinav Dwivedi\\nData Scientist, Softsensor.ai\\nThanks to the iNeuron team for teaching me the skillsets to get this fantastic job. it was an amazing journey of 8-9 months. Special thanks to Sudhanshu sir\\nSaransh Sehrawat\\nAssociate Consultant, EY\\nA big thanks to the iNeuron team for helping us to enhance our technical knowledge to achieve everyone's dream. My gratitude to all instructors for all you have.\\nPayel Tarafder\\nSystem Engineer, TCS\\nIt was through Krish's videos that I first learned about INEURON, and without hesitation, I joined the inaugural FULL STACK DATA ANALYTICS Course in June 2022.\\nRupam Gupta\\nBusiness Analyst, Keseya\\nHackathon\\nEmbark on an adventure of creativity, teamwork, and coding brilliance using our advanced Hackathon Portal!\\nOur Alumni's Are Placed At\\n500+ Hiring Partners\\nFooter\\ncontact@ineuron.ai\\n+91 8071176111\"),\n",
              " Document(metadata={'source': 'https://ineuron.ai/'}, page_content=\"Embark on an adventure of creativity, teamwork, and coding brilliance using our advanced Hackathon Portal!\\nOur Alumni's Are Placed At\\n500+ Hiring Partners\\nFooter\\ncontact@ineuron.ai\\n+91 8071176111\\nFacebookInstagramYoutubeTwitterLinkedinDiscord\\nCompany\\nAbout us\\nContact us\\nFAQs\\nCertificate verification\\nPrivacy policy\\nTerms and conditions\\nProducts\\nOne Neuron\\nSupport System\\nNeuro Lab\\nJob Portal\\nInternship Portal\\nBecome an affiliate\\nHall of fame\\nHackathon\")]"
            ]
          },
          "metadata": {},
          "execution_count": 15
        }
      ]
    },
    {
      "cell_type": "markdown",
      "source": [
        "EMBEDDINGS"
      ],
      "metadata": {
        "id": "kE3QI0WyPXwH"
      }
    },
    {
      "cell_type": "code",
      "source": [
        "#Embedding Model\n",
        "embeddings = HuggingFaceEmbeddings(model_name='sentence-transformers/all-MiniLM-L6-V2')\n",
        "# this model can handle direct texts without needing an explicit tokenizer before to convert the text to tokens. So here, AutoTokenizer is not needed\n",
        "query_result = embeddings.embed_query(\"Hello World\")"
      ],
      "metadata": {
        "colab": {
          "base_uri": "https://localhost:8080/"
        },
        "id": "Ta2V5p4ifn2L",
        "outputId": "14d6e571-b801-490b-aaec-d96cdf253140"
      },
      "execution_count": 16,
      "outputs": [
        {
          "output_type": "stream",
          "name": "stderr",
          "text": [
            "<ipython-input-16-59a29ab7b453>:2: LangChainDeprecationWarning: The class `HuggingFaceEmbeddings` was deprecated in LangChain 0.2.2 and will be removed in 1.0. An updated version of the class exists in the :class:`~langchain-huggingface package and should be used instead. To use it run `pip install -U :class:`~langchain-huggingface` and import as `from :class:`~langchain_huggingface import HuggingFaceEmbeddings``.\n",
            "  embeddings = HuggingFaceEmbeddings(model_name='sentence-transformers/all-MiniLM-L6-V2')\n",
            "/usr/local/lib/python3.10/dist-packages/huggingface_hub/utils/_auth.py:94: UserWarning: \n",
            "The secret `HF_TOKEN` does not exist in your Colab secrets.\n",
            "To authenticate with the Hugging Face Hub, create a token in your settings tab (https://huggingface.co/settings/tokens), set it as secret in your Google Colab and restart your session.\n",
            "You will be able to reuse this secret in all of your notebooks.\n",
            "Please note that authentication is recommended but still optional to access public models or datasets.\n",
            "  warnings.warn(\n"
          ]
        }
      ]
    },
    {
      "cell_type": "code",
      "source": [
        "len(query_result)"
      ],
      "metadata": {
        "colab": {
          "base_uri": "https://localhost:8080/"
        },
        "id": "_zEeTjDcikol",
        "outputId": "74aba6cb-bb2b-45ed-ee05-2a044e01a2f0"
      },
      "execution_count": 17,
      "outputs": [
        {
          "output_type": "execute_result",
          "data": {
            "text/plain": [
              "384"
            ]
          },
          "metadata": {},
          "execution_count": 17
        }
      ]
    },
    {
      "cell_type": "markdown",
      "source": [
        "VECTOR DB FOR STORING EMBEDDINGS"
      ],
      "metadata": {
        "id": "nxm7-pWYQAPx"
      }
    },
    {
      "cell_type": "code",
      "source": [
        "# Create environment for pinecone\n",
        "import os\n",
        "PINECONE_API_KEY = os.environ.get('PINECONE_API_KEY','pcsk_2EDGsr_73u8oSH1ji98emqhpdfS7cw43K5Pn1cvHvENvUK473FZzTCvzDPm24cMc7TXyxd')\n",
        "PINECONE_API_ENV = os.environ.get('PINECONE_API_ENV','us-east-1')\n"
      ],
      "metadata": {
        "id": "vu1pEJBBjEFv"
      },
      "execution_count": 18,
      "outputs": []
    },
    {
      "cell_type": "code",
      "source": [
        "os.environ['PINECONE_API_KEY'] = 'pcsk_2EDGsr_73u8oSH1ji98emqhpdfS7cw43K5Pn1cvHvENvUK473FZzTCvzDPm24cMc7TXyxd'  # Replace with your actual API key\n",
        "os.environ['PINECONE_API_ENV'] = 'us-east-1'"
      ],
      "metadata": {
        "id": "vvOPoKsMmOqE"
      },
      "execution_count": 19,
      "outputs": []
    },
    {
      "cell_type": "code",
      "source": [
        "import pinecone\n",
        "from pinecone import Pinecone\n",
        "\n",
        "# Initialize Pinecone using Pinecone class\n",
        "pinecone = Pinecone(\n",
        "    api_key=os.environ['PINECONE_API_KEY'] ,\n",
        "    environment=os.environ['PINECONE_API_ENV']\n",
        ")"
      ],
      "metadata": {
        "id": "lE-p5rUclvYt"
      },
      "execution_count": 20,
      "outputs": []
    },
    {
      "cell_type": "code",
      "source": [
        "# # import pinecone\n",
        "\n",
        "# # Initialize Pinecone\n",
        "# # pinecone.init(api_key='pcsk_2EDGsr_73u8oSH1ji98emqhpdfS7cw43K5Pn1cvHvENvUK473FZzTCvzDPm24cMc7TXyxd', environment='us-east-1-aws')\n",
        "\n",
        "# # Delete the index - Replace 'index_to_delete' with the actual name of the index you want to delete\n",
        "# index_to_delete = \"website-bot\"\n",
        "# pinecone.delete_index(index_to_delete)\n",
        "\n",
        "# print(f\"Index '{index_to_delete}' deleted successfully.\")"
      ],
      "metadata": {
        "id": "RwVtGn20LZz-"
      },
      "execution_count": 23,
      "outputs": []
    },
    {
      "cell_type": "code",
      "source": [
        "# Step 2: Create or Connect to an Index\n",
        "index_name = \"website-bot\"\n",
        "if index_name not in pinecone.list_indexes():\n",
        "  pinecone.create_index(\n",
        "      name=index_name,\n",
        "      dimension=384, # Replace with your model dimensions\n",
        "      metric=\"cosine\", # Replace with your model metric\n",
        "      spec={'serverless': {'cloud': 'aws', 'region': 'us-east-1'}}\n",
        "      )\n",
        "index = pinecone.Index(index_name)"
      ],
      "metadata": {
        "id": "bK8xqU0iMPWX"
      },
      "execution_count": 24,
      "outputs": []
    },
    {
      "cell_type": "code",
      "source": [
        "index"
      ],
      "metadata": {
        "colab": {
          "base_uri": "https://localhost:8080/"
        },
        "id": "5QLYJENOWTCq",
        "outputId": "2c8b1956-b7eb-4e2f-8170-fbcc82fa3a9a"
      },
      "execution_count": 25,
      "outputs": [
        {
          "output_type": "execute_result",
          "data": {
            "text/plain": [
              "<pinecone.data.index.Index at 0x7ec0cd5443d0>"
            ]
          },
          "metadata": {},
          "execution_count": 25
        }
      ]
    },
    {
      "cell_type": "code",
      "source": [
        "# pinecone_client = pinecone.Index(index_name)"
      ],
      "metadata": {
        "id": "xfmxi8H2bWvl"
      },
      "execution_count": null,
      "outputs": []
    },
    {
      "cell_type": "code",
      "source": [
        "# # import pinecone\n",
        "\n",
        "# # Initialize Pinecone\n",
        "# # pinecone.init(api_key='pcsk_2EDGsr_73u8oSH1ji98emqhpdfS7cw43K5Pn1cvHvENvUK473FZzTCvzDPm24cMc7TXyxd', environment='us-east-1-aws')\n",
        "\n",
        "# # Delete the index - Replace 'index_to_delete' with the actual name of the index you want to delete\n",
        "# index_to_delete = \"website-bot\"\n",
        "# pinecone.delete_index(index_to_delete)\n",
        "\n",
        "# print(f\"Index '{index_to_delete}' deleted successfully.\")"
      ],
      "metadata": {
        "id": "qR--pkkgTxKw"
      },
      "execution_count": null,
      "outputs": []
    },
    {
      "cell_type": "code",
      "source": [
        "# index_name = \"website-bot\""
      ],
      "metadata": {
        "id": "cz60mBA3l41_"
      },
      "execution_count": null,
      "outputs": []
    },
    {
      "cell_type": "code",
      "source": [
        "from langchain.vectorstores import Pinecone as LangchainPinecone"
      ],
      "metadata": {
        "id": "U4Tx3aqPWot1"
      },
      "execution_count": 26,
      "outputs": []
    },
    {
      "cell_type": "code",
      "source": [
        "docsearch = LangchainPinecone.from_texts([t.page_content for t in text_chunks], embeddings, index_name=index_name)"
      ],
      "metadata": {
        "id": "tR6iOqEDmZmY"
      },
      "execution_count": 27,
      "outputs": []
    },
    {
      "cell_type": "markdown",
      "source": [
        "LLM WRAPPER"
      ],
      "metadata": {
        "id": "Hw32yFx6OuYZ"
      }
    },
    {
      "cell_type": "code",
      "source": [
        "# Log in to Hugging Face (only needed once per session/notebook)\n",
        "notebook_login()\n"
      ],
      "metadata": {
        "colab": {
          "base_uri": "https://localhost:8080/",
          "height": 17,
          "referenced_widgets": [
            "739f6d932656467bb997994eb2f30e73",
            "dc4c01f922e14da99f1a4da41e7dd053",
            "20049b43a350467d908a95b979971d98",
            "ac49926dfc114dccb89bc34c999ce68e",
            "0973299c5da142e7805ad1e876f98ecd",
            "267c36e62ab144dfa1b364fcb7011305",
            "ffe9599628c24583843eabf3992a45c7",
            "7ceb2f3362014d22ae8c220d927e79cf",
            "5fd616e727d84edc9dff809da50163cb",
            "d5f6475bb4b248feb3d76220d6006f80",
            "dd87f3f357d44068bbd249fa8be22f3b",
            "2911c6fd331f4a9e9a81d3c1eef6d1a9",
            "1b74e5cd218c4d5f80ea0afe6078a45f",
            "187af44c8619436cbd38c2fdf14775ba",
            "36d5f60d91e0415c83c71f2e069defdd",
            "cd0b366da79744688115b87fd98c19ce",
            "317b5ecd7e8f4931938ec84bfe1cf535",
            "5248c16ff0fb4f5cbe1f8a9b7016e4e8",
            "db314dd56b134ec589a1c41e6476a76c",
            "9e7d5bfa0fbe4917b369fb774aa75047"
          ]
        },
        "id": "gLu5vJ8fpJfG",
        "outputId": "75a57c89-187d-4b9f-98df-658b987c2053"
      },
      "execution_count": 28,
      "outputs": [
        {
          "output_type": "display_data",
          "data": {
            "text/plain": [
              "VBox(children=(HTML(value='<center> <img\\nsrc=https://huggingface.co/front/assets/huggingface_logo-noborder.sv…"
            ],
            "application/vnd.jupyter.widget-view+json": {
              "version_major": 2,
              "version_minor": 0,
              "model_id": "739f6d932656467bb997994eb2f30e73"
            }
          },
          "metadata": {}
        }
      ]
    },
    {
      "cell_type": "code",
      "source": [
        "## LLM WRAPPER\n",
        "tokenizer = AutoTokenizer.from_pretrained(\"meta-llama/Llama-2-7b-chat-hf\",\n",
        "                                          use_auth_token=True,)\n",
        "\n",
        "\n",
        "model = AutoModelForCausalLM.from_pretrained(\"meta-llama/Llama-2-7b-chat-hf\",\n",
        "                                             device_map='auto',\n",
        "                                             torch_dtype=torch.float16,\n",
        "                                             use_auth_token=True,\n",
        "                                              load_in_8bit=True,\n",
        "                                              #load_in_4bit=True\n",
        "                                             )"
      ],
      "metadata": {
        "colab": {
          "base_uri": "https://localhost:8080/",
          "height": 156,
          "referenced_widgets": [
            "8079c2aa86ca4cfdbe9f59628dbe3a8c",
            "daf0d4af8c954e11bb1f8b916109cd13",
            "92180f24dfc8405a88f5d54b06c9d000",
            "9d2df27988f445b8b51c81ca9b928399",
            "4d59de06bd7f46259808981f2a0eff45",
            "7c8724c498e545b5a59a1e40aeabb49f",
            "22fe106c61f94c22b73a4f02ad23c16d",
            "1ca300322f7046729b80924631f39937",
            "843d4892508d4459bc32e8c1fb025ceb",
            "fb9b6dc7f55947e2940e86f511ad6d82",
            "659a3b2e02264082b5cd684ebe6261c4"
          ]
        },
        "id": "lxZdZBl7LItO",
        "outputId": "af81c860-9d3b-4bcc-93f7-039da0e76a98"
      },
      "execution_count": 29,
      "outputs": [
        {
          "output_type": "stream",
          "name": "stderr",
          "text": [
            "/usr/local/lib/python3.10/dist-packages/transformers/models/auto/tokenization_auto.py:810: FutureWarning: The `use_auth_token` argument is deprecated and will be removed in v5 of Transformers. Please use `token` instead.\n",
            "  warnings.warn(\n",
            "/usr/local/lib/python3.10/dist-packages/transformers/models/auto/auto_factory.py:471: FutureWarning: The `use_auth_token` argument is deprecated and will be removed in v5 of Transformers. Please use `token` instead.\n",
            "  warnings.warn(\n",
            "The `load_in_4bit` and `load_in_8bit` arguments are deprecated and will be removed in the future versions. Please, pass a `BitsAndBytesConfig` object in `quantization_config` argument instead.\n"
          ]
        },
        {
          "output_type": "display_data",
          "data": {
            "text/plain": [
              "Loading checkpoint shards:   0%|          | 0/2 [00:00<?, ?it/s]"
            ],
            "application/vnd.jupyter.widget-view+json": {
              "version_major": 2,
              "version_minor": 0,
              "model_id": "8079c2aa86ca4cfdbe9f59628dbe3a8c"
            }
          },
          "metadata": {}
        }
      ]
    },
    {
      "cell_type": "code",
      "source": [
        "pipe = transformers.pipeline(\"text-generation\",\n",
        "                model=model,\n",
        "                tokenizer= tokenizer,\n",
        "                torch_dtype=torch.bfloat16,\n",
        "                device_map=\"auto\",\n",
        "                max_new_tokens = 512,\n",
        "                do_sample=True,\n",
        "                top_k=30,\n",
        "                num_return_sequences=1,\n",
        "                eos_token_id=tokenizer.eos_token_id\n",
        "                )"
      ],
      "metadata": {
        "id": "dkTaZ2ZRd_JH",
        "colab": {
          "base_uri": "https://localhost:8080/"
        },
        "outputId": "797838f5-e266-4c07-ff27-60f086e19363"
      },
      "execution_count": 30,
      "outputs": [
        {
          "output_type": "stream",
          "name": "stderr",
          "text": [
            "Device set to use cuda:0\n"
          ]
        }
      ]
    },
    {
      "cell_type": "code",
      "source": [
        "llm=HuggingFacePipeline(pipeline=pipe, model_kwargs={'temperature':0})"
      ],
      "metadata": {
        "colab": {
          "base_uri": "https://localhost:8080/"
        },
        "id": "yRVuZDWRGhfI",
        "outputId": "692fde57-2681-4f50-b383-5e6a932768ce"
      },
      "execution_count": 31,
      "outputs": [
        {
          "output_type": "stream",
          "name": "stderr",
          "text": [
            "<ipython-input-31-9753c688c802>:1: LangChainDeprecationWarning: The class `HuggingFacePipeline` was deprecated in LangChain 0.0.37 and will be removed in 1.0. An updated version of the class exists in the :class:`~langchain-huggingface package and should be used instead. To use it run `pip install -U :class:`~langchain-huggingface` and import as `from :class:`~langchain_huggingface import HuggingFacePipeline``.\n",
            "  llm=HuggingFacePipeline(pipeline=pipe, model_kwargs={'temperature':0})\n"
          ]
        }
      ]
    },
    {
      "cell_type": "code",
      "source": [
        "llm.predict(\"Please provide a concise summary of the Book Harry Potter\")"
      ],
      "metadata": {
        "colab": {
          "base_uri": "https://localhost:8080/",
          "height": 195
        },
        "id": "9cZ3hlLiJIoZ",
        "outputId": "a9bb7a7d-90dd-4b04-9afc-44a94e951006"
      },
      "execution_count": 32,
      "outputs": [
        {
          "output_type": "stream",
          "name": "stderr",
          "text": [
            "<ipython-input-32-181e585c8cae>:1: LangChainDeprecationWarning: The method `BaseLLM.predict` was deprecated in langchain-core 0.1.7 and will be removed in 1.0. Use :meth:`~invoke` instead.\n",
            "  llm.predict(\"Please provide a concise summary of the Book Harry Potter\")\n"
          ]
        },
        {
          "output_type": "execute_result",
          "data": {
            "text/plain": [
              "\"Please provide a concise summary of the Book Harry Potter and the Philosopher's Stone by J.K. Rowling.\\n\\nHarry Potter is an orphan who lives with his cruel and neglectful relatives, the Dursleys. On his eleventh birthday, he discovers that he is a wizard and begins attending Hogwarts School of Witchcraft and Wizardry. He makes two best friends, Ron Weasley and Hermione Granger, and together they become entangled in a mystery surrounding the powerful Sorcerer's Stone.\\n\\nThe trio must prevent the stone from falling into the wrong hands, as it has the power to grant eternal life and grant wishes. Along the way, they encounter obstacles such as the school's potions master, Severus Snape, and the school's rival, Draco Malfoy.\\n\\nThe story is set in a magical world where wizards and witches live secretly among non-magical people, and where magic is a powerful force that can be used for good or evil. The book is full of adventure, humor, and heart, and introduces readers to a richly imagined world of magic and wonder.\""
            ],
            "application/vnd.google.colaboratory.intrinsic+json": {
              "type": "string"
            }
          },
          "metadata": {},
          "execution_count": 32
        }
      ]
    },
    {
      "cell_type": "code",
      "source": [],
      "metadata": {
        "id": "gF9_n6aBJK3g"
      },
      "execution_count": null,
      "outputs": []
    },
    {
      "cell_type": "markdown",
      "source": [
        "RETRIEVAL QA\n"
      ],
      "metadata": {
        "id": "9n3WwTAGOo1g"
      }
    },
    {
      "cell_type": "code",
      "source": [
        "from langchain.chains import RetrievalQA"
      ],
      "metadata": {
        "id": "qPbepJimKsds"
      },
      "execution_count": 33,
      "outputs": []
    },
    {
      "cell_type": "code",
      "source": [
        "qa = RetrievalQA.from_chain_type(llm=llm, chain_type=\"stuff\", retriever=docsearch.as_retriever())"
      ],
      "metadata": {
        "id": "zqvvYTvPKskB"
      },
      "execution_count": 34,
      "outputs": []
    },
    {
      "cell_type": "code",
      "source": [
        "query = \"Tell me the course price of Full Stack Data Science with Generative AI provide by ineuron\"\n"
      ],
      "metadata": {
        "id": "WkdlAdyyKxGc"
      },
      "execution_count": 35,
      "outputs": []
    },
    {
      "cell_type": "code",
      "source": [
        "print(qa.run(query))"
      ],
      "metadata": {
        "colab": {
          "base_uri": "https://localhost:8080/"
        },
        "id": "9Qn9o6HoKzXz",
        "outputId": "ebf4c578-0707-4b01-da34-e71e1faec23b"
      },
      "execution_count": 36,
      "outputs": [
        {
          "output_type": "stream",
          "name": "stderr",
          "text": [
            "<ipython-input-36-260aa8d7cbf0>:1: LangChainDeprecationWarning: The method `Chain.run` was deprecated in langchain 0.1.0 and will be removed in 1.0. Use :meth:`~invoke` instead.\n",
            "  print(qa.run(query))\n"
          ]
        },
        {
          "output_type": "stream",
          "name": "stdout",
          "text": [
            "Use the following pieces of context to answer the question at the end. If you don't know the answer, just say that you don't know, don't try to make up an answer.\n",
            "\n",
            "Neuro Lab\n",
            "Get premium access to a state-of-the-art virtual lab with infinite computing so you won't need additional investments in high-end PCs\n",
            "Job Portal\n",
            "New-age jobs need new-age technology, Build resumes in minutes, Apply for exclusive jobs or hire fresh talent we have you covered.\n",
            "One Neuron\n",
            "Specialized bundled programs tailored to cater to your specific requirements. 500+ Tech courses bundled to make learning easy and affordable\n",
            "Support System\n",
            "Complex doubt or joining a like minded community at your fingertips\n",
            "Internship Portal\n",
            "Choose from over 500+ live projects across various domains Build, collaborate and grow with peers.\n",
            "TODO\n",
            "Completed\n",
            "In Progress\n",
            "Backlog\n",
            "Become an affiliate\n",
            "Earn while you learn\n",
            "Hall of fame\n",
            "Learn from alumnus who cracked the code\n",
            "I want to express my gratitude to Krish Naik, Sudhanshu Kumar and Sunny Savita for their instrumental role in my data science journey.\n",
            "Abhinav Dwivedi\n",
            "Data Scientist, Softsensor.ai\n",
            "\n",
            "I want to express my gratitude to Krish Naik, Sudhanshu Kumar and Sunny Savita for their instrumental role in my data science journey.\n",
            "Abhinav Dwivedi\n",
            "Data Scientist, Softsensor.ai\n",
            "Thanks to the iNeuron team for teaching me the skillsets to get this fantastic job. it was an amazing journey of 8-9 months. Special thanks to Sudhanshu sir\n",
            "Saransh Sehrawat\n",
            "Associate Consultant, EY\n",
            "A big thanks to the iNeuron team for helping us to enhance our technical knowledge to achieve everyone's dream. My gratitude to all instructors for all you have.\n",
            "Payel Tarafder\n",
            "System Engineer, TCS\n",
            "It was through Krish's videos that I first learned about INEURON, and without hesitation, I joined the inaugural FULL STACK DATA ANALYTICS Course in June 2022.\n",
            "Rupam Gupta\n",
            "Business Analyst, Keseya\n",
            "Hackathon\n",
            "Embark on an adventure of creativity, teamwork, and coding brilliance using our advanced Hackathon Portal!\n",
            "Our Alumni's Are Placed At\n",
            "500+ Hiring Partners\n",
            "Footer\n",
            "contact@ineuron.ai\n",
            "+91 8071176111\n",
            "\n",
            "Learning with iNeuron made\n",
            "Take your career to the next level with industry ready programs, An entire learning ecosystem at your fingertips to make learning fun. Choose from a range of tech programs and make your next big career switch.\n",
            "55%\n",
            "Average Salary Hike\n",
            "400+\n",
            "Different Courses\n",
            "10000+\n",
            "Career Transitions\n",
            "400+\n",
            "Hiring Partners\n",
            "LIVE NOW\n",
            "Support System\n",
            "Our support system is live again, this time it is bigger, better and faster. Experience a tech community like never seen before\n",
            "Our Courses\n",
            "Success Stories\n",
            "Fresher\n",
            "Abhisekh Bhuyan\n",
            "MLOps engineer\n",
            "I got job as an MLOps engineer at synapsica at 13 LPA PPO because of \"End to End projects MLOps\" from iNeuron.\n",
            "From\n",
            "Fresher\n",
            "To\n",
            "79% Increment\n",
            "Subham Kanungo\n",
            "Associate Data Scientist\n",
            "I just joined EY as data analyst. It would not be possible with the support of Krish sir and Sudhanshu sir.\n",
            "From\n",
            "To\n",
            "100% Increment\n",
            "Sayan Saha\n",
            "Software Engineer - Python\n",
            "\n",
            "From\n",
            "Intern\n",
            "To\n",
            "Fresher\n",
            "Adityaraj Chaudhari\n",
            "ML Engineer\n",
            "I am delighted to inform you that I have successfully joined Zycus Infotech as trainee ML Engineer.\n",
            "From\n",
            "Fresher\n",
            "To\n",
            "300% Increment\n",
            "Disha Balpande\n",
            "ML Engineer\n",
            "Thank You so much for wonerful course and videos, I got a job at Adidas with 300% Hike.\n",
            "From\n",
            "To\n",
            "150% Increment\n",
            "Shubham Bharadwaj\n",
            "Finance Analyst\n",
            "I am beyond elated to announce that I have joined Deloitte USI as Analyst- Finance. Excited to move ahead in my carrer with biggest of the Big 4.\n",
            "From\n",
            "To\n",
            "60% Increment\n",
            "Praveen Iyer\n",
            "Senior Software Engineer\n",
            "I have got an opportunity for a semiconductor chip manufacturing company in Bengaluru as Senior Software Engineer.\n",
            "From\n",
            "To\n",
            "Explore Our Ecosystem\n",
            "A one-stop destination for all your learning to placement needs\n",
            "Neuro Lab\n",
            "Get premium access to a state-of-the-art virtual lab with infinite computing so you won't need additional investments in high-end PCs\n",
            "Job Portal\n",
            "\n",
            "Question: Tell me the course price of Full Stack Data Science with Generative AI provide by ineuron\n",
            "Helpful Answer: The price of the Full Stack Data Science with Generative AI course provided by ineuron is not available in the given text.\n",
            "Unhelpful Answer: I don't know the price of the Full Stack Data Science with Generative AI course provided by ineuron. Please check the ineuron website for the most up-to-date pricing information.\n"
          ]
        }
      ]
    },
    {
      "cell_type": "code",
      "source": [
        "from langchain.prompts import PromptTemplate\n",
        "\n",
        "# Build prompt\n",
        "template = \"\"\"Use the following pieces of context to answer the question at the end. If you don't know the answer, just say that you don't know, don't try to make up an answer. Use three sentences maximum. Keep the answer as concise as possible. Always say \"thanks for asking!\" at the end of the answer.\n",
        "{context}\n",
        "Question: {question}\n",
        "Helpful Answer:\"\"\"\n",
        "QA_CHAIN_PROMPT = PromptTemplate.from_template(template)# Run chain\n",
        "qa_chain = RetrievalQA.from_chain_type(\n",
        "    llm,\n",
        "    retriever=docsearch.as_retriever(),\n",
        "    chain_type_kwargs={\"prompt\": QA_CHAIN_PROMPT}\n",
        ")"
      ],
      "metadata": {
        "id": "693QakkTK1hw"
      },
      "execution_count": 42,
      "outputs": []
    },
    {
      "cell_type": "code",
      "source": [
        "question = \"Do they teach Machine Learning in Ineuron?\"\n",
        "result =qa_chain.run(question)\n",
        "# Check the result of the query\n",
        "print(result)\n"
      ],
      "metadata": {
        "colab": {
          "base_uri": "https://localhost:8080/"
        },
        "id": "3FM1lcgTNI8J",
        "outputId": "1cffe35d-9e2a-4a5b-bc82-41cafaa8e82d"
      },
      "execution_count": 44,
      "outputs": [
        {
          "output_type": "stream",
          "name": "stdout",
          "text": [
            "Use the following pieces of context to answer the question at the end. If you don't know the answer, just say that you don't know, don't try to make up an answer. Use three sentences maximum. Keep the answer as concise as possible. Always say \"thanks for asking!\" at the end of the answer. \n",
            "I want to express my gratitude to Krish Naik, Sudhanshu Kumar and Sunny Savita for their instrumental role in my data science journey.\n",
            "Abhinav Dwivedi\n",
            "Data Scientist, Softsensor.ai\n",
            "Thanks to the iNeuron team for teaching me the skillsets to get this fantastic job. it was an amazing journey of 8-9 months. Special thanks to Sudhanshu sir\n",
            "Saransh Sehrawat\n",
            "Associate Consultant, EY\n",
            "A big thanks to the iNeuron team for helping us to enhance our technical knowledge to achieve everyone's dream. My gratitude to all instructors for all you have.\n",
            "Payel Tarafder\n",
            "System Engineer, TCS\n",
            "It was through Krish's videos that I first learned about INEURON, and without hesitation, I joined the inaugural FULL STACK DATA ANALYTICS Course in June 2022.\n",
            "Rupam Gupta\n",
            "Business Analyst, Keseya\n",
            "Hackathon\n",
            "Embark on an adventure of creativity, teamwork, and coding brilliance using our advanced Hackathon Portal!\n",
            "Our Alumni's Are Placed At\n",
            "500+ Hiring Partners\n",
            "Footer\n",
            "contact@ineuron.ai\n",
            "+91 8071176111\n",
            "\n",
            "Learning with iNeuron made\n",
            "Take your career to the next level with industry ready programs, An entire learning ecosystem at your fingertips to make learning fun. Choose from a range of tech programs and make your next big career switch.\n",
            "55%\n",
            "Average Salary Hike\n",
            "400+\n",
            "Different Courses\n",
            "10000+\n",
            "Career Transitions\n",
            "400+\n",
            "Hiring Partners\n",
            "LIVE NOW\n",
            "Support System\n",
            "Our support system is live again, this time it is bigger, better and faster. Experience a tech community like never seen before\n",
            "Our Courses\n",
            "Success Stories\n",
            "Fresher\n",
            "Abhisekh Bhuyan\n",
            "MLOps engineer\n",
            "I got job as an MLOps engineer at synapsica at 13 LPA PPO because of \"End to End projects MLOps\" from iNeuron.\n",
            "From\n",
            "Fresher\n",
            "To\n",
            "79% Increment\n",
            "Subham Kanungo\n",
            "Associate Data Scientist\n",
            "I just joined EY as data analyst. It would not be possible with the support of Krish sir and Sudhanshu sir.\n",
            "From\n",
            "To\n",
            "100% Increment\n",
            "Sayan Saha\n",
            "Software Engineer - Python\n",
            "\n",
            "Neuro Lab\n",
            "Get premium access to a state-of-the-art virtual lab with infinite computing so you won't need additional investments in high-end PCs\n",
            "Job Portal\n",
            "New-age jobs need new-age technology, Build resumes in minutes, Apply for exclusive jobs or hire fresh talent we have you covered.\n",
            "One Neuron\n",
            "Specialized bundled programs tailored to cater to your specific requirements. 500+ Tech courses bundled to make learning easy and affordable\n",
            "Support System\n",
            "Complex doubt or joining a like minded community at your fingertips\n",
            "Internship Portal\n",
            "Choose from over 500+ live projects across various domains Build, collaborate and grow with peers.\n",
            "TODO\n",
            "Completed\n",
            "In Progress\n",
            "Backlog\n",
            "Become an affiliate\n",
            "Earn while you learn\n",
            "Hall of fame\n",
            "Learn from alumnus who cracked the code\n",
            "I want to express my gratitude to Krish Naik, Sudhanshu Kumar and Sunny Savita for their instrumental role in my data science journey.\n",
            "Abhinav Dwivedi\n",
            "Data Scientist, Softsensor.ai\n",
            "\n",
            "Embark on an adventure of creativity, teamwork, and coding brilliance using our advanced Hackathon Portal!\n",
            "Our Alumni's Are Placed At\n",
            "500+ Hiring Partners\n",
            "Footer\n",
            "contact@ineuron.ai\n",
            "+91 8071176111\n",
            "FacebookInstagramYoutubeTwitterLinkedinDiscord\n",
            "Company\n",
            "About us\n",
            "Contact us\n",
            "FAQs\n",
            "Certificate verification\n",
            "Privacy policy\n",
            "Terms and conditions\n",
            "Products\n",
            "One Neuron\n",
            "Support System\n",
            "Neuro Lab\n",
            "Job Portal\n",
            "Internship Portal\n",
            "Become an affiliate\n",
            "Hall of fame\n",
            "Hackathon\n",
            "Question: Do they teach Machine Learning in Ineuron?\n",
            "Helpful Answer: Yes, they do! Ineuron offers a comprehensive Machine Learning course that covers both theoretical and practical aspects of the subject. The course is designed to help students learn the fundamentals of Machine Learning, including supervised and unsupervised learning, regression, classification, clustering, and deep learning. Thanks for asking!\n"
          ]
        }
      ]
    },
    {
      "cell_type": "code",
      "source": [
        "# # Check the source document from where we\n",
        "# result[\"source_documents\"][0]"
      ],
      "metadata": {
        "id": "8sDy9ar0Njew"
      },
      "execution_count": 45,
      "outputs": []
    },
    {
      "cell_type": "code",
      "source": [],
      "metadata": {
        "id": "y59TJm68NpLa"
      },
      "execution_count": null,
      "outputs": []
    }
  ]
}